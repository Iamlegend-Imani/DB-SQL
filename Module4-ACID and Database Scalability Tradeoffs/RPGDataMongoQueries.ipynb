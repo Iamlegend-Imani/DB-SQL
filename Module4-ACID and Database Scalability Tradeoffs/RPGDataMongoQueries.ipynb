{
 "metadata": {
  "language_info": {
   "codemirror_mode": {
    "name": "ipython",
    "version": 3
   },
   "file_extension": ".py",
   "mimetype": "text/x-python",
   "name": "python",
   "nbconvert_exporter": "python",
   "pygments_lexer": "ipython3",
   "version": "3.8.5"
  },
  "orig_nbformat": 2,
  "kernelspec": {
   "name": "python385jvsc74a57bd0327549c953e45161202f5e773f385c8c2d03e41d095460af6a4ba2c1eacb1a94",
   "display_name": "Python 3.8.5 64-bit ('rpg_sql-7JfnCVSm': pipenv)"
  }
 },
 "nbformat": 4,
 "nbformat_minor": 2,
 "cells": [
  {
   "cell_type": "code",
   "execution_count": 1,
   "metadata": {},
   "outputs": [],
   "source": [
    "import sqlite3\n",
    "import pymongo"
   ]
  },
  {
   "cell_type": "code",
   "execution_count": 2,
   "metadata": {},
   "outputs": [],
   "source": [
    "DBNAME = \"migbubjs\"\n",
    "PASSWORD = \"hSX9X1IH5XHRmJWXBmwZgqCnhwKtAvzv\"\n"
   ]
  },
  {
   "cell_type": "code",
   "execution_count": 3,
   "metadata": {},
   "outputs": [],
   "source": [
    "def connect_to_mongo(password, dbname):\n",
    "    client = pymongo.MongoClient(\n",
    "        \"mongodb+srv://nwdelafu-WinOS:{}@cluster0.hkp4s.mongodb.net/{}?retryWrites=true&w=majority\"\n",
    "        .format(password, dbname)\n",
    "        )\n",
    "    return client"
   ]
  },
  {
   "cell_type": "code",
   "execution_count": 12,
   "metadata": {},
   "outputs": [],
   "source": [
    "mongo_client = connect_to_mongo(PASSWORD, DBNAME)\n",
    "collection = mongo_client.myFirstDatabase.myFirstDatabase"
   ]
  },
  {
   "cell_type": "code",
   "execution_count": 13,
   "metadata": {},
   "outputs": [],
   "source": [
    "def connect_to_sldb():\n",
    "    conn = sqlite3.connect('../data/rpg_db.sqlite3')\n",
    "    curs = conn.cursor()\n",
    "    return conn, curs"
   ]
  },
  {
   "cell_type": "code",
   "execution_count": 14,
   "metadata": {},
   "outputs": [],
   "source": [
    "def total_character(curs, collection):\n",
    "    result = list(collection.find())\n",
    "    print(len(result))"
   ]
  },
  {
   "cell_type": "code",
   "execution_count": 35,
   "metadata": {},
   "outputs": [],
   "source": [
    "def total_items(curs, collection):\n",
    "    result1 = collection.distinct('items')\n",
    "    print(len(list(result1)))"
   ]
  },
  {
   "cell_type": "code",
   "execution_count": 36,
   "metadata": {},
   "outputs": [],
   "source": [
    "def total_weapons(curs, collection):\n",
    "    result2 = collection.distinct('weapons')\n",
    "    print(len(list(result2)))"
   ]
  },
  {
   "cell_type": "code",
   "execution_count": 70,
   "metadata": {},
   "outputs": [],
   "source": [
    "def item_character(curs, collection):\n",
    "    result3 = collection.aggregate([{ '$match': {'_id': {'$gte': 0}}},\n",
    "                            { '$sortByCount': '$items'}])\n",
    "\n",
    "\n",
    "    print(list(result3))\n",
    "\n",
    "counter = 0\n",
    "for i in result3:\n",
    "  if counter < 20:\n",
    "      print(i)\n",
    "      counter = counter + 1"
   ]
  },
  {
   "cell_type": "code",
   "execution_count": null,
   "metadata": {},
   "outputs": [],
   "source": [
    "def item_character(curs, collection):\n",
    "    result4 = collection.aggregate([{ '$match': {'_id': {'$gte': 138}}},\n",
    "                            { '$sortByCount': '$items'}])\n",
    "\n",
    "\n",
    "    print(list(result4))\n",
    "\n",
    "counter1 = 0\n",
    "for i in result4:\n",
    "  if counter1 < 20:\n",
    "      print(i)\n",
    "      counter1 = counter1 + 1"
   ]
  },
  {
   "cell_type": "code",
   "execution_count": null,
   "metadata": {},
   "outputs": [],
   "source": [
    "counter2 = 0\n",
    "num_items = 0\n",
    "\n",
    "for i in result3:\n",
    "  counter2 = counter2 + i['count']\n",
    "  num_items = num_items + 1\n",
    "\n",
    "print('Average = ', counter2 / num_items )"
   ]
  },
  {
   "cell_type": "code",
   "execution_count": null,
   "metadata": {},
   "outputs": [],
   "source": [
    "counter3 = 0\n",
    "num_items1 = 0\n",
    "\n",
    "for i in result4:\n",
    "  counter3 = counter3 + i['count']\n",
    "  num_items2 = num_items1 + 1\n",
    "\n",
    "print('Average = ', counter3 / num_items1 )"
   ]
  },
  {
   "cell_type": "code",
   "execution_count": 71,
   "metadata": {},
   "outputs": [
    {
     "output_type": "stream",
     "name": "stdout",
     "text": [
      "[]\n"
     ]
    }
   ],
   "source": [
    "sl_conn, sl_curs = connect_to_sldb()\n",
    "# collection.delete_many({})\n",
    "item_character(sl_curs, collection)\n",
    "# print(list(collection.find()))\n",
    "sl_curs.close()"
   ]
  },
  {
   "cell_type": "code",
   "execution_count": null,
   "metadata": {},
   "outputs": [],
   "source": []
  }
 ]
}